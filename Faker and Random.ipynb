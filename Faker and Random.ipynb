{
 "cells": [
  {
   "cell_type": "code",
   "execution_count": 3,
   "id": "7061d1fd",
   "metadata": {},
   "outputs": [
    {
     "name": "stdout",
     "output_type": "stream",
     "text": [
      "Defaulting to user installation because normal site-packages is not writeable\n",
      "Requirement already satisfied: Faker in c:\\users\\hp\\appdata\\roaming\\python\\python310\\site-packages (30.3.0)\n",
      "Requirement already satisfied: python-dateutil>=2.4 in c:\\programdata\\anaconda3\\lib\\site-packages (from Faker) (2.8.2)\n",
      "Requirement already satisfied: typing-extensions in c:\\users\\hp\\appdata\\roaming\\python\\python310\\site-packages (from Faker) (4.8.0)\n",
      "Requirement already satisfied: six>=1.5 in c:\\programdata\\anaconda3\\lib\\site-packages (from python-dateutil>=2.4->Faker) (1.16.0)\n",
      "Note: you may need to restart the kernel to use updated packages.\n"
     ]
    }
   ],
   "source": [
    "pip install Faker"
   ]
  },
  {
   "cell_type": "code",
   "execution_count": 4,
   "id": "731eccd1",
   "metadata": {},
   "outputs": [],
   "source": [
    "import pandas as pd"
   ]
  },
  {
   "cell_type": "code",
   "execution_count": 5,
   "id": "3241e73e",
   "metadata": {},
   "outputs": [],
   "source": [
    "import random"
   ]
  },
  {
   "cell_type": "code",
   "execution_count": 6,
   "id": "350dae51",
   "metadata": {},
   "outputs": [],
   "source": [
    "from faker import Faker"
   ]
  },
  {
   "cell_type": "code",
   "execution_count": 7,
   "id": "1460c51c",
   "metadata": {},
   "outputs": [],
   "source": [
    "import string "
   ]
  },
  {
   "cell_type": "code",
   "execution_count": 8,
   "id": "94b35939",
   "metadata": {},
   "outputs": [],
   "source": [
    "from datetime import timedelta"
   ]
  },
  {
   "cell_type": "code",
   "execution_count": 9,
   "id": "517c6629",
   "metadata": {},
   "outputs": [],
   "source": [
    "fake = Faker()"
   ]
  },
  {
   "cell_type": "code",
   "execution_count": 10,
   "id": "09a31f10",
   "metadata": {},
   "outputs": [],
   "source": [
    "df=pd.DataFrame( columns=[\"Date_de_Commande\", \"Date_de_Livresion\", \"ID_Produit\", \"Quantite\", \"Prix_Par_Unite\",\"Adress_Email\",\"Prix_Total\", \"Profit\"])"
   ]
  },
  {
   "cell_type": "code",
   "execution_count": 11,
   "id": "ac0a7849",
   "metadata": {},
   "outputs": [],
   "source": [
    "data = []"
   ]
  },
  {
   "cell_type": "code",
   "execution_count": 12,
   "id": "322d953e",
   "metadata": {},
   "outputs": [
    {
     "name": "stdout",
     "output_type": "stream",
     "text": [
      "noahmiller@example.com\n",
      "607-684-0709\n"
     ]
    }
   ],
   "source": [
    "Adress_Email= fake.email()\n",
    "print(Adress_Email)\n",
    "Telephone= fake.phone_number()\n",
    "print(Telephone)"
   ]
  },
  {
   "cell_type": "code",
   "execution_count": 13,
   "id": "56771b51",
   "metadata": {},
   "outputs": [],
   "source": [
    "for i in range(1000):\n",
    "    Date_de_Commande = fake.date_this_year()\n",
    "    Date_de_Livresion = Date_de_Commande + timedelta(days=random.randint(1, 30))\n",
    "    ID_Produit = random.randint(1000, 9999)\n",
    "    Quantite = random.randint(1, 20)\n",
    "    Prix_Par_Unite = round(random.uniform(5, 100), 2)\n",
    "    Adress_Email= fake.email()\n",
    "    Prix_Total= Quantite*Prix_Par_Unite\n",
    "    pourcentage = random.uniform(0.05, 0.30)\n",
    "    Profit = round(Prix_Total * pourcentage, 2)  \n",
    "    data.append([Date_de_Commande, Date_de_Livresion, ID_Produit, Quantite, Prix_Par_Unite, Adress_Email, Prix_Total, Profit])\n",
    "df = pd.DataFrame(data, columns=[\"Date_de_Commande\", \"Date_de_Livresion\", \"ID_Produit\", \"Quantite\", \"Prix_Par_Unite\", \"Adress_Email\", \"Prix_Total\", \"Profit\"])"
   ]
  },
  {
   "cell_type": "code",
   "execution_count": 14,
   "id": "92cb3b7e",
   "metadata": {},
   "outputs": [
    {
     "data": {
      "text/html": [
       "<div>\n",
       "<style scoped>\n",
       "    .dataframe tbody tr th:only-of-type {\n",
       "        vertical-align: middle;\n",
       "    }\n",
       "\n",
       "    .dataframe tbody tr th {\n",
       "        vertical-align: top;\n",
       "    }\n",
       "\n",
       "    .dataframe thead th {\n",
       "        text-align: right;\n",
       "    }\n",
       "</style>\n",
       "<table border=\"1\" class=\"dataframe\">\n",
       "  <thead>\n",
       "    <tr style=\"text-align: right;\">\n",
       "      <th></th>\n",
       "      <th>Date_de_Commande</th>\n",
       "      <th>Date_de_Livresion</th>\n",
       "      <th>ID_Produit</th>\n",
       "      <th>Quantite</th>\n",
       "      <th>Prix_Par_Unite</th>\n",
       "      <th>Adress_Email</th>\n",
       "      <th>Prix_Total</th>\n",
       "      <th>Profit</th>\n",
       "    </tr>\n",
       "  </thead>\n",
       "  <tbody>\n",
       "    <tr>\n",
       "      <th>0</th>\n",
       "      <td>2024-09-18</td>\n",
       "      <td>2024-10-17</td>\n",
       "      <td>7823</td>\n",
       "      <td>2</td>\n",
       "      <td>43.18</td>\n",
       "      <td>dunlapchristine@example.org</td>\n",
       "      <td>86.36</td>\n",
       "      <td>15.50</td>\n",
       "    </tr>\n",
       "    <tr>\n",
       "      <th>1</th>\n",
       "      <td>2024-08-07</td>\n",
       "      <td>2024-08-18</td>\n",
       "      <td>6460</td>\n",
       "      <td>8</td>\n",
       "      <td>54.07</td>\n",
       "      <td>ygonzalez@example.net</td>\n",
       "      <td>432.56</td>\n",
       "      <td>106.03</td>\n",
       "    </tr>\n",
       "    <tr>\n",
       "      <th>2</th>\n",
       "      <td>2024-09-14</td>\n",
       "      <td>2024-09-23</td>\n",
       "      <td>8454</td>\n",
       "      <td>14</td>\n",
       "      <td>97.04</td>\n",
       "      <td>reginaorr@example.net</td>\n",
       "      <td>1358.56</td>\n",
       "      <td>206.11</td>\n",
       "    </tr>\n",
       "    <tr>\n",
       "      <th>3</th>\n",
       "      <td>2024-05-15</td>\n",
       "      <td>2024-06-11</td>\n",
       "      <td>9825</td>\n",
       "      <td>14</td>\n",
       "      <td>65.89</td>\n",
       "      <td>fletchertonya@example.com</td>\n",
       "      <td>922.46</td>\n",
       "      <td>153.86</td>\n",
       "    </tr>\n",
       "    <tr>\n",
       "      <th>4</th>\n",
       "      <td>2024-10-01</td>\n",
       "      <td>2024-10-31</td>\n",
       "      <td>8993</td>\n",
       "      <td>9</td>\n",
       "      <td>98.23</td>\n",
       "      <td>woodstaylor@example.net</td>\n",
       "      <td>884.07</td>\n",
       "      <td>136.92</td>\n",
       "    </tr>\n",
       "  </tbody>\n",
       "</table>\n",
       "</div>"
      ],
      "text/plain": [
       "  Date_de_Commande Date_de_Livresion  ID_Produit  Quantite  Prix_Par_Unite  \\\n",
       "0       2024-09-18        2024-10-17        7823         2           43.18   \n",
       "1       2024-08-07        2024-08-18        6460         8           54.07   \n",
       "2       2024-09-14        2024-09-23        8454        14           97.04   \n",
       "3       2024-05-15        2024-06-11        9825        14           65.89   \n",
       "4       2024-10-01        2024-10-31        8993         9           98.23   \n",
       "\n",
       "                  Adress_Email  Prix_Total  Profit  \n",
       "0  dunlapchristine@example.org       86.36   15.50  \n",
       "1        ygonzalez@example.net      432.56  106.03  \n",
       "2        reginaorr@example.net     1358.56  206.11  \n",
       "3    fletchertonya@example.com      922.46  153.86  \n",
       "4      woodstaylor@example.net      884.07  136.92  "
      ]
     },
     "execution_count": 14,
     "metadata": {},
     "output_type": "execute_result"
    }
   ],
   "source": [
    "df.head()"
   ]
  },
  {
   "cell_type": "code",
   "execution_count": 18,
   "id": "054e981e",
   "metadata": {},
   "outputs": [],
   "source": [
    "df.to_csv(\"Donnees_des_Commande.csv\")"
   ]
  },
  {
   "cell_type": "code",
   "execution_count": null,
   "id": "39bf5026",
   "metadata": {},
   "outputs": [],
   "source": []
  }
 ],
 "metadata": {
  "kernelspec": {
   "display_name": "Python 3 (ipykernel)",
   "language": "python",
   "name": "python3"
  },
  "language_info": {
   "codemirror_mode": {
    "name": "ipython",
    "version": 3
   },
   "file_extension": ".py",
   "mimetype": "text/x-python",
   "name": "python",
   "nbconvert_exporter": "python",
   "pygments_lexer": "ipython3",
   "version": "3.10.9"
  }
 },
 "nbformat": 4,
 "nbformat_minor": 5
}
